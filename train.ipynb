{
 "cells": [
  {
   "cell_type": "markdown",
   "id": "3edc9c80",
   "metadata": {},
   "source": [
    "# Imports"
   ]
  },
  {
   "cell_type": "code",
   "execution_count": 1,
   "id": "55714099",
   "metadata": {},
   "outputs": [],
   "source": [
    "import os\n",
    "import pandas as pd\n",
    "import numpy as np\n",
    "\n",
    "import sklearn\n",
    "from sklearn.model_selection import train_test_split\n",
    "from sklearn.feature_extraction.text import CountVectorizer\n",
    "from sklearn.feature_extraction.text import TfidfVectorizer\n",
    "from sklearn.naive_bayes import MultinomialNB\n",
    "from sklearn.metrics import roc_auc_score\n",
    "from sklearn.svm import SVC"
   ]
  },
  {
   "cell_type": "code",
   "execution_count": 2,
   "id": "8ed05be8",
   "metadata": {},
   "outputs": [],
   "source": [
    "#reading the data sets\n",
    "train = pd.read_csv(\"train.csv\")\n",
    "validation = pd.read_csv(\"validation.csv\")\n",
    "test = pd.read_csv(\"test.csv\")"
   ]
  },
  {
   "cell_type": "code",
   "execution_count": 3,
   "id": "b99fe000",
   "metadata": {},
   "outputs": [],
   "source": [
    "y_train,X_train = train[\"target\"],train[\"text\"]\n",
    "y_validation,X_validation = validation[\"target\"],validation [\"text\"]\n",
    "y_test,X_test = test[\"target\"],test[\"text\"]"
   ]
  },
  {
   "cell_type": "markdown",
   "id": "9a73db14",
   "metadata": {},
   "source": [
    "# Data Modelling"
   ]
  },
  {
   "cell_type": "markdown",
   "id": "4e100f58",
   "metadata": {},
   "source": [
    "## Multinomial Naive Bias (tfidf tokenizer)"
   ]
  },
  {
   "cell_type": "markdown",
   "id": "ad946003",
   "metadata": {},
   "source": [
    "## The goal of using tfidf is to scale down the impact of tokens that occur very frequently in a given corpus and that are hence empirically less informative than features that occur in a small fraction of the training corpus."
   ]
  },
  {
   "cell_type": "code",
   "execution_count": 4,
   "id": "ba338095",
   "metadata": {},
   "outputs": [],
   "source": [
    "# fitting and transforming X_train using a tfid vectorizer, ignoring terms with a document frequency lower than 3.\n",
    "vect = TfidfVectorizer(min_df=3).fit(X_train)\n",
    "X_train_vectorized = vect.transform(X_train)"
   ]
  },
  {
   "cell_type": "code",
   "execution_count": 5,
   "id": "300e5bf0",
   "metadata": {},
   "outputs": [],
   "source": [
    "# fitting training data to a multinomial NB model\n",
    "model = sklearn.naive_bayes.MultinomialNB()\n",
    "model_fit = model.fit(X_train_vectorized, y_train)"
   ]
  },
  {
   "cell_type": "code",
   "execution_count": 6,
   "id": "57ca0adf",
   "metadata": {},
   "outputs": [
    {
     "name": "stderr",
     "output_type": "stream",
     "text": [
      "C:\\Users\\hp\\anaconda3\\lib\\site-packages\\sklearn\\utils\\deprecation.py:87: FutureWarning: Function get_feature_names is deprecated; get_feature_names is deprecated in 1.0 and will be removed in 1.2. Please use get_feature_names_out instead.\n",
      "  warnings.warn(msg, category=FutureWarning)\n"
     ]
    },
    {
     "data": {
      "text/plain": [
       "(0          indian\n",
       " 1        gardener\n",
       " 2           solve\n",
       " 3      vegetables\n",
       " 4      questioned\n",
       " 5       neighbour\n",
       " 6        dificult\n",
       " 7         fightng\n",
       " 8             3rd\n",
       " 9             5th\n",
       " 10            6th\n",
       " 11            7th\n",
       " 12    personality\n",
       " 13        wonders\n",
       " 14          moral\n",
       " 15           sum1\n",
       " 16       sweetest\n",
       " 17       honeybee\n",
       " 18        laughed\n",
       " 19          havnt\n",
       " dtype: object,\n",
       " 0          say\n",
       " 1       unsold\n",
       " 2      science\n",
       " 3        those\n",
       " 4         done\n",
       " 5         babe\n",
       " 6        thank\n",
       " 7      towards\n",
       " 8        space\n",
       " 9          too\n",
       " 10         out\n",
       " 11          or\n",
       " 12        okie\n",
       " 13          ok\n",
       " 14    anything\n",
       " 15        wine\n",
       " 16          of\n",
       " 17     anytime\n",
       " 18        nite\n",
       " 19        type\n",
       " dtype: object)"
      ]
     },
     "execution_count": 6,
     "metadata": {},
     "output_type": "execute_result"
    }
   ],
   "source": [
    "#looking at model features\n",
    "feature_names = np.array(vect.get_feature_names())\n",
    "sorted_tfidf_index = X_train_vectorized.max(0).toarray()[0].argsort()\n",
    "((pd.Series(feature_names[sorted_tfidf_index[:20]]),\n",
    "            pd.Series(feature_names[sorted_tfidf_index[-21:-1]])))"
   ]
  },
  {
   "cell_type": "code",
   "execution_count": 7,
   "id": "7792f9f4",
   "metadata": {},
   "outputs": [
    {
     "name": "stdout",
     "output_type": "stream",
     "text": [
      "0.9060832821868656\n"
     ]
    }
   ],
   "source": [
    "#making predictions\n",
    "predictions = model_fit.predict(vect.transform(X_test))\n",
    "aucscore = roc_auc_score(y_test, predictions)\n",
    "print(aucscore)"
   ]
  },
  {
   "cell_type": "code",
   "execution_count": 8,
   "id": "99bbcc60",
   "metadata": {},
   "outputs": [
    {
     "name": "stdout",
     "output_type": "stream",
     "text": [
      "             Predicted Spam  Predicted Ham\n",
      "Actual Spam             717              1\n",
      "Actual Ham               22             96\n",
      "\n",
      "True Positives: 96\n",
      "False Positives: 1\n",
      "True Negatives: 717\n",
      "False Negatives: 22\n",
      "True Positive Rate: 0.8135593220338984\n",
      "Specificity: 0.9986072423398329\n",
      "False Positive Rate: 0.001392757660167131\n"
     ]
    }
   ],
   "source": [
    "#confusion matrix\n",
    "from sklearn.metrics import confusion_matrix\n",
    "tn, fp, fn, tp = confusion_matrix(y_test, predictions).ravel()\n",
    "print(pd.DataFrame(confusion_matrix(y_test, predictions),\n",
    "             columns=['Predicted Spam', \"Predicted Ham\"], index=['Actual Spam', 'Actual Ham']))\n",
    "print(f'\\nTrue Positives: {tp}')\n",
    "print(f'False Positives: {fp}')\n",
    "print(f'True Negatives: {tn}')\n",
    "print(f'False Negatives: {fn}')\n",
    "\n",
    "print(f'True Positive Rate: { (tp / (tp + fn))}')\n",
    "print(f'Specificity: { (tn / (tn + fp))}')\n",
    "print(f'False Positive Rate: { (fp / (fp + tn))}')"
   ]
  },
  {
   "cell_type": "markdown",
   "id": "467a885e",
   "metadata": {},
   "source": [
    "## Support Vector Classifier Model "
   ]
  },
  {
   "cell_type": "code",
   "execution_count": 9,
   "id": "cfdfc2a4",
   "metadata": {},
   "outputs": [],
   "source": [
    "#defining an additional function\n",
    "def add_feature(X, feature_to_add):\n",
    "    \"\"\"\n",
    "    Returns sparse feature matrix with added feature.\n",
    "    feature_to_add can also be a list of features.\n",
    "    \"\"\"\n",
    "    from scipy.sparse import csr_matrix, hstack\n",
    "    return hstack([X, csr_matrix(feature_to_add).T], 'csr')"
   ]
  },
  {
   "cell_type": "code",
   "execution_count": 10,
   "id": "fd21c5ea",
   "metadata": {},
   "outputs": [],
   "source": [
    "#fit and transfor x_train and X_test\n",
    "vectorizer = TfidfVectorizer(min_df=5)\n",
    "\n",
    "X_train_transformed = vectorizer.fit_transform(X_train)\n",
    "X_train_transformed_with_length = add_feature(X_train_transformed, X_train.str.len())\n",
    "\n",
    "X_test_transformed = vectorizer.transform(X_test)\n",
    "X_test_transformed_with_length = add_feature(X_test_transformed, X_test.str.len())"
   ]
  },
  {
   "cell_type": "code",
   "execution_count": 11,
   "id": "1ee3eee2",
   "metadata": {},
   "outputs": [
    {
     "data": {
      "text/plain": [
       "SVC(C=10000)"
      ]
     },
     "execution_count": 11,
     "metadata": {},
     "output_type": "execute_result"
    }
   ],
   "source": [
    "# SVM creation\n",
    "clf = SVC(C=10000)\n",
    "\n",
    "clf.fit(X_train_transformed_with_length, y_train)"
   ]
  },
  {
   "cell_type": "code",
   "execution_count": 12,
   "id": "89b6e17f",
   "metadata": {},
   "outputs": [],
   "source": [
    "y_predicted = clf.predict(X_test_transformed_with_length)\n"
   ]
  },
  {
   "cell_type": "code",
   "execution_count": 13,
   "id": "0ae29ff1",
   "metadata": {},
   "outputs": [
    {
     "data": {
      "text/plain": [
       "0.9562343609839007"
      ]
     },
     "execution_count": 13,
     "metadata": {},
     "output_type": "execute_result"
    }
   ],
   "source": [
    "roc_auc_score(y_test, y_predicted)\n"
   ]
  },
  {
   "cell_type": "code",
   "execution_count": 14,
   "id": "16e249f2",
   "metadata": {},
   "outputs": [
    {
     "name": "stdout",
     "output_type": "stream",
     "text": [
      "             Predicted Spam  Predicted Ham\n",
      "Actual Spam             716              2\n",
      "Actual Ham               10            108\n",
      "\n",
      "True Positives: 108\n",
      "False Positives: 2\n",
      "True Negatives: 716\n",
      "False Negatives: 10\n",
      "True Positive Rate: 0.9152542372881356\n",
      "Specificity: 0.9972144846796658\n",
      "False Positive Rate: 0.002785515320334262\n"
     ]
    }
   ],
   "source": [
    "#confusion matrix\n",
    "from sklearn.metrics import confusion_matrix\n",
    "tn, fp, fn, tp = confusion_matrix(y_test, y_predicted).ravel()\n",
    "print(pd.DataFrame(confusion_matrix(y_test, y_predicted),\n",
    "             columns=['Predicted Spam', \"Predicted Ham\"], index=['Actual Spam', 'Actual Ham']))\n",
    "print(f'\\nTrue Positives: {tp}')\n",
    "print(f'False Positives: {fp}')\n",
    "print(f'True Negatives: {tn}')\n",
    "print(f'False Negatives: {fn}')\n",
    "\n",
    "\n",
    "print(f'True Positive Rate: { (tp / (tp + fn))}')\n",
    "print(f'Specificity: { (tn / (tn + fp))}')\n",
    "print(f'False Positive Rate: { (fp / (fp + tn))}')"
   ]
  },
  {
   "cell_type": "markdown",
   "id": "5b31e499",
   "metadata": {},
   "source": [
    "## Logistic Regression Model with ngrams"
   ]
  },
  {
   "cell_type": "code",
   "execution_count": 15,
   "id": "72880808",
   "metadata": {},
   "outputs": [
    {
     "name": "stderr",
     "output_type": "stream",
     "text": [
      "C:\\Users\\hp\\anaconda3\\lib\\site-packages\\sklearn\\linear_model\\_logistic.py:814: ConvergenceWarning: lbfgs failed to converge (status=1):\n",
      "STOP: TOTAL NO. of ITERATIONS REACHED LIMIT.\n",
      "\n",
      "Increase the number of iterations (max_iter) or scale the data as shown in:\n",
      "    https://scikit-learn.org/stable/modules/preprocessing.html\n",
      "Please also refer to the documentation for alternative solver options:\n",
      "    https://scikit-learn.org/stable/modules/linear_model.html#logistic-regression\n",
      "  n_iter_i = _check_optimize_result(\n"
     ]
    },
    {
     "data": {
      "text/plain": [
       "0.95414522449365"
      ]
     },
     "execution_count": 15,
     "metadata": {},
     "output_type": "execute_result"
    }
   ],
   "source": [
    "from sklearn.linear_model import LogisticRegression\n",
    "\n",
    "vectorizer = TfidfVectorizer(min_df=5, ngram_range=[1,3])\n",
    "\n",
    "X_train_transformed = vectorizer.fit_transform(X_train)\n",
    "X_train_transformed_with_length = add_feature(X_train_transformed, [X_train.str.len(),\n",
    "                                                                    X_train.apply(lambda x: len(''.join([a for a in x if a.isdigit()])))])\n",
    "\n",
    "X_test_transformed = vectorizer.transform(X_test)\n",
    "X_test_transformed_with_length = add_feature(X_test_transformed, [X_test.str.len(),\n",
    "                                                                  X_test.apply(lambda x: len(''.join([a for a in x if a.isdigit()])))])\n",
    "\n",
    "clf = LogisticRegression(C=100)\n",
    "\n",
    "clf.fit(X_train_transformed_with_length, y_train)\n",
    "\n",
    "y_predicted = clf.predict(X_test_transformed_with_length)\n",
    "\n",
    "roc_auc_score(y_test, y_predicted)"
   ]
  },
  {
   "cell_type": "code",
   "execution_count": 16,
   "id": "12ba4d43",
   "metadata": {},
   "outputs": [
    {
     "name": "stdout",
     "output_type": "stream",
     "text": [
      "             Predicted Spam  Predicted Ham\n",
      "Actual Spam             713              5\n",
      "Actual Ham               10            108\n",
      "\n",
      "True Positives: 108\n",
      "False Positives: 5\n",
      "True Negatives: 713\n",
      "False Negatives: 10\n",
      "\n",
      "True Positive Rate: 0.9152542372881356\n",
      "Specificity: 0.9930362116991643\n",
      "False Positive Rate: 0.006963788300835654\n"
     ]
    }
   ],
   "source": [
    "#confusion matrix\n",
    "from sklearn.metrics import confusion_matrix\n",
    "tn, fp, fn, tp = confusion_matrix(y_test, y_predicted).ravel()\n",
    "print(pd.DataFrame(confusion_matrix(y_test, y_predicted),\n",
    "             columns=['Predicted Spam', \"Predicted Ham\"], index=['Actual Spam', 'Actual Ham']))\n",
    "print(f'\\nTrue Positives: {tp}')\n",
    "print(f'False Positives: {fp}')\n",
    "print(f'True Negatives: {tn}')\n",
    "print(f'False Negatives: {fn}')\n",
    "\n",
    "\n",
    "print(f'\\nTrue Positive Rate: { (tp / (tp + fn))}')\n",
    "print(f'Specificity: { (tn / (tn + fp))}')\n",
    "print(f'False Positive Rate: { (fp / (fp + tn))}')"
   ]
  },
  {
   "cell_type": "markdown",
   "id": "e78f230d",
   "metadata": {},
   "source": [
    "# Model Comparison"
   ]
  },
  {
   "cell_type": "code",
   "execution_count": 17,
   "id": "1bbdb357",
   "metadata": {},
   "outputs": [
    {
     "data": {
      "image/png": "[encoded data removed]",
      "text/plain": [
       "<Figure size 640x480 with 1 Axes>"
      ]
     },
     "metadata": {},
     "output_type": "display_data"
    }
   ],
   "source": [
    "import seaborn as sb\n",
    "import matplotlib.pyplot as plt\n",
    "\n",
    "label = ['MNNB', 'SVC', 'Logistic']\n",
    "auclist = [0.9060832821868656, 0.9562343609839007, 0.95414522449365]\n",
    "\n",
    "#generates an array of length label and use it on the X-axis\n",
    "def plot_bar_x():\n",
    "    # this is for plotting purpose\n",
    "    index = np.arange(len(label))\n",
    "    clrs = ['grey' if (x < max(auclist)) else 'red' for x in auclist ]\n",
    "    g=sb.barplot(x=index, y=auclist, palette=clrs) # color=clrs)   \n",
    "    plt.xlabel('Model type', fontsize=10)\n",
    "    plt.ylabel('AUC score', fontsize=10)\n",
    "    plt.xticks(index, label, fontsize=10, rotation=30)\n",
    "    plt.title('AUC score for each fitted model')\n",
    "    ax=g\n",
    "    for p in ax.patches:\n",
    "             ax.annotate(\"%.2f\" % p.get_height(), (p.get_x() + p.get_width() / 2., p.get_height()),\n",
    "                 ha='center', va='center', fontsize=11, color='gray', xytext=(0, 20),\n",
    "                 textcoords='offset points')\n",
    "    g.set_ylim(0,1.25) #To make space for the annotations\n",
    "\n",
    "plot_bar_x()"
   ]
  },
  {
   "cell_type": "markdown",
   "id": "ad3a7b31",
   "metadata": {},
   "source": [
    "## Using a train-test split, the 3 models were put through the stages of X_train vectorization, model fitting on X_train and Y_train, make some predictions and generate the respective confusion matrices and area under the receiver operating characteristics curve for evaluation. (AUC-ROC)"
   ]
  },
  {
   "cell_type": "markdown",
   "id": "8fd3f394",
   "metadata": {},
   "source": [
    "## The resultant best performing model was the SVC Model, although it should be noted that all 3 models performed reasonably well at detecting spam messages (all AUC > 0.9)"
   ]
  }
 ],
 "metadata": {
  "kernelspec": {
   "display_name": "Python 3 (ipykernel)",
   "language": "python",
   "name": "python3"
  },
  "language_info": {
   "codemirror_mode": {
    "name": "ipython",
    "version": 3
   },
   "file_extension": ".py",
   "mimetype": "text/x-python",
   "name": "python",
   "nbconvert_exporter": "python",
   "pygments_lexer": "ipython3",
   "version": "3.9.13"
  }
 },
 "nbformat": 4,
 "nbformat_minor": 5
}
