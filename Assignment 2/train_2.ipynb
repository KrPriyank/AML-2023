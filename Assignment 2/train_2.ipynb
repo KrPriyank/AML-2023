{
 "cells": [
  {
   "cell_type": "code",
   "execution_count": 5,
   "id": "47beb6a5",
   "metadata": {},
   "outputs": [],
   "source": [
    "#!pip install --user --upgrade pip"
   ]
  },
  {
   "cell_type": "code",
   "execution_count": 6,
   "id": "ad68fd0d",
   "metadata": {},
   "outputs": [],
   "source": [
    "#!pip install mlflow --user"
   ]
  },
  {
   "cell_type": "code",
   "execution_count": 4,
   "id": "a1d21b32",
   "metadata": {},
   "outputs": [],
   "source": [
    "#! pip install jinja2==3.0.3"
   ]
  },
  {
   "cell_type": "code",
   "execution_count": 1,
   "id": "f635d5c1",
   "metadata": {},
   "outputs": [],
   "source": [
    "import os\n",
    "import pandas as pd\n",
    "import numpy as np\n",
    "\n",
    "import sklearn\n",
    "from sklearn.model_selection import train_test_split\n",
    "from sklearn.feature_extraction.text import CountVectorizer\n",
    "from sklearn.feature_extraction.text import TfidfVectorizer\n",
    "from sklearn.naive_bayes import MultinomialNB\n",
    "from sklearn.metrics import roc_auc_score\n",
    "from sklearn.svm import SVC\n",
    "from sklearn.metrics import confusion_matrix"
   ]
  },
  {
   "cell_type": "code",
   "execution_count": 2,
   "id": "35c8d7d8",
   "metadata": {},
   "outputs": [],
   "source": [
    "import mlflow\n",
    "import logging\n",
    "from urllib.parse import urlparse\n",
    "from markupsafe import escape\n",
    "\n",
    "logging.basicConfig(level=logging.WARN)\n",
    "logger = logging.getLogger(__name__)"
   ]
  },
  {
   "cell_type": "markdown",
   "id": "749482cf",
   "metadata": {},
   "source": [
    "# loading the data sets"
   ]
  },
  {
   "cell_type": "code",
   "execution_count": 3,
   "id": "6648fdd3",
   "metadata": {},
   "outputs": [],
   "source": [
    "#reading the data sets\n",
    "train = pd.read_csv(\"data/train.csv\")\n",
    "validation = pd.read_csv(\"data/validation.csv\")\n",
    "test = pd.read_csv(\"data/test.csv\")"
   ]
  },
  {
   "cell_type": "code",
   "execution_count": 4,
   "id": "20469335",
   "metadata": {},
   "outputs": [],
   "source": [
    "y_train,X_train = train[\"target\"],train[\"text\"]\n",
    "y_validation,X_validation = validation[\"target\"],validation [\"text\"]\n",
    "y_test,X_test = test[\"target\"],test[\"text\"]"
   ]
  },
  {
   "cell_type": "markdown",
   "id": "83d5b8dd",
   "metadata": {},
   "source": [
    "# Data modelling "
   ]
  },
  {
   "cell_type": "markdown",
   "id": "4fb0ccde",
   "metadata": {},
   "source": [
    "# Multinomial NB"
   ]
  },
  {
   "cell_type": "code",
   "execution_count": 5,
   "id": "5851a3c7",
   "metadata": {},
   "outputs": [],
   "source": [
    "# fitting and transforming X_train using a tfid vectorizer, ignoring terms with a document frequency lower than 3.\n",
    "vect = TfidfVectorizer(min_df=3).fit(X_train)\n",
    "X_train_vectorized = vect.transform(X_train)"
   ]
  },
  {
   "cell_type": "code",
   "execution_count": 8,
   "id": "ea8ccdfd",
   "metadata": {},
   "outputs": [
    {
     "name": "stderr",
     "output_type": "stream",
     "text": [
      "2023/02/28 01:48:22 INFO mlflow.utils.autologging_utils: Created MLflow autologging run with ID '28168eb9a7e544329f750afe37ce49ea', which will track hyperparameters, performance metrics, model artifacts, and lineage information for the current sklearn workflow\n"
     ]
    },
    {
     "name": "stdout",
     "output_type": "stream",
     "text": [
      "\n",
      "Multinomial Naive Bayes\n",
      "             Predicted Spam  Predicted Ham\n",
      "Actual Spam             731              0\n",
      "Actual Ham               20             85\n",
      "\n",
      "True Positives: 85\n",
      "False Positives: 0\n",
      "True Negatives: 731\n",
      "False Negatives: 20\n",
      "True Positive Rate: 0.8095238095238095\n",
      "Specificity: 1.0\n",
      "False Positive Rate: 0.0\n",
      "Auc Score: 0.9047619047619048 \n",
      "\n",
      "\n"
     ]
    },
    {
     "name": "stderr",
     "output_type": "stream",
     "text": [
      "Registered model 'multinomial-nb-model' already exists. Creating a new version of this model...\n",
      "2023/02/28 01:48:37 INFO mlflow.tracking._model_registry.client: Waiting up to 300 seconds for model version to finish creation.                     Model name: multinomial-nb-model, version 4\n",
      "Created version '4' of model 'multinomial-nb-model'.\n"
     ]
    }
   ],
   "source": [
    "mlflow.sklearn.autolog()\n",
    "\n",
    "clf = sklearn.naive_bayes.MultinomialNB()\n",
    "clf.fit(X_train_vectorized, y_train)\n",
    "\n",
    "y_pred = clf.predict(vect.transform(X_test))\n",
    "aucscore = roc_auc_score(y_test, y_pred)\n",
    "tn, fp, fn, tp = confusion_matrix(y_test, y_pred).ravel()\n",
    "\n",
    "with mlflow.start_run(run_name=\"Multinomial Naive Bayes\"):\n",
    "\n",
    "    mlflow.sklearn.log_model(clf, \"model\")\n",
    "\n",
    "    print(\"\\nMultinomial Naive Bayes\")\n",
    "    print(pd.DataFrame(confusion_matrix(y_test, y_pred),\n",
    "             columns=['Predicted Spam', \"Predicted Ham\"], index=['Actual Spam', 'Actual Ham']))\n",
    "    print(f'\\nTrue Positives: {tp}')\n",
    "    print(f'False Positives: {fp}')\n",
    "    print(f'True Negatives: {tn}')\n",
    "    print(f'False Negatives: {fn}')\n",
    "\n",
    "    print(f'True Positive Rate: { (tp / (tp + fn))}')\n",
    "    print(f'Specificity: { (tn / (tn + fp))}')\n",
    "    print(f'False Positive Rate: { (fp / (fp + tn))}')\n",
    "    print(f\"Auc Score: {aucscore} \\n\\n\")\n",
    "    \n",
    "\n",
    "    tracking_url_type_store = urlparse(mlflow.get_tracking_uri()).scheme\n",
    "    mlflow.sklearn.log_model(\n",
    "        sk_model=clf,\n",
    "        artifact_path=\"sklearn-model\",\n",
    "        registered_model_name=\"multinomial-nb-model\"\n",
    "    )\n",
    "    if tracking_url_type_store != \"file\":\n",
    "      mlflow.sklearn.log_model(clf, \"model\", registered_model_name=\"multinomial-nb-model\")\n",
    "    else:\n",
    "      mlflow.sklearn.log_model(clf, \"model\")"
   ]
  },
  {
   "cell_type": "code",
   "execution_count": 9,
   "id": "e1538529",
   "metadata": {},
   "outputs": [
    {
     "data": {
      "text/plain": [
       "<ModelVersion: creation_timestamp=1677519465514, current_stage='None', description=None, last_updated_timestamp=1677519465514, name='multinomial-nb-model', run_id='13c8ed0e7a75496cbe29286d74e45e01', run_link=None, source='file:///C:/Users/hp/Downloads/mlruns/0/13c8ed0e7a75496cbe29286d74e45e01/artifacts/sklearn-model', status='READY', status_message=None, tags={}, user_id=None, version=1>"
      ]
     },
     "execution_count": 9,
     "metadata": {},
     "output_type": "execute_result"
    }
   ],
   "source": [
    "mlflow.tracking.MlflowClient().get_model_version(\"multinomial-nb-model\",\"1\")"
   ]
  },
  {
   "cell_type": "markdown",
   "id": "682b3031",
   "metadata": {},
   "source": [
    "# Support Vector Classifier Model "
   ]
  },
  {
   "cell_type": "code",
   "execution_count": 10,
   "id": "965ca051",
   "metadata": {},
   "outputs": [],
   "source": [
    "#defining an additional function\n",
    "def add_feature(X, feature_to_add):\n",
    "    \"\"\"\n",
    "    Returns sparse feature matrix with added feature.\n",
    "    feature_to_add can also be a list of features.\n",
    "    \"\"\"\n",
    "    from scipy.sparse import csr_matrix, hstack\n",
    "    return hstack([X, csr_matrix(feature_to_add).T], 'csr')"
   ]
  },
  {
   "cell_type": "code",
   "execution_count": 11,
   "id": "aa51eec5",
   "metadata": {},
   "outputs": [],
   "source": [
    "#fit and transfor x_train and X_test\n",
    "vectorizer = TfidfVectorizer(min_df=5)\n",
    "\n",
    "X_train_transformed = vectorizer.fit_transform(X_train)\n",
    "X_train_transformed_with_length = add_feature(X_train_transformed, X_train.str.len())\n",
    "\n",
    "X_test_transformed = vectorizer.transform(X_test)\n",
    "X_test_transformed_with_length = add_feature(X_test_transformed, X_test.str.len())"
   ]
  },
  {
   "cell_type": "code",
   "execution_count": 12,
   "id": "c5e30cf3",
   "metadata": {},
   "outputs": [
    {
     "name": "stderr",
     "output_type": "stream",
     "text": [
      "2023/02/28 01:48:57 INFO mlflow.utils.autologging_utils: Created MLflow autologging run with ID 'e13c4dc2a1104362874091db09a8dd60', which will track hyperparameters, performance metrics, model artifacts, and lineage information for the current sklearn workflow\n"
     ]
    },
    {
     "name": "stdout",
     "output_type": "stream",
     "text": [
      "\n",
      "Support Vector Classifier\n",
      "             Predicted Spam  Predicted Ham\n",
      "Actual Spam             729              2\n",
      "Actual Ham                6             99\n",
      "\n",
      "True Positives: 99\n",
      "False Positives: 2\n",
      "True Negatives: 729\n",
      "False Negatives: 6\n",
      "True Positive Rate: 0.9428571428571428\n",
      "Specificity: 0.9972640218878249\n",
      "False Positive Rate: 0.0027359781121751026\n",
      "Auc Score: 0.9700605823724839 \n",
      "\n",
      "\n"
     ]
    },
    {
     "name": "stderr",
     "output_type": "stream",
     "text": [
      "Registered model 'support-vector-classifier' already exists. Creating a new version of this model...\n",
      "2023/02/28 01:49:16 INFO mlflow.tracking._model_registry.client: Waiting up to 300 seconds for model version to finish creation.                     Model name: support-vector-classifier, version 3\n",
      "Created version '3' of model 'support-vector-classifier'.\n"
     ]
    }
   ],
   "source": [
    "mlflow.sklearn.autolog()\n",
    "\n",
    "# SVM creation\n",
    "clf = SVC(C=10000)\n",
    "clf.fit(X_train_transformed_with_length, y_train)\n",
    "\n",
    "y_pred = clf.predict(X_test_transformed_with_length)\n",
    "aucscore = roc_auc_score(y_test, y_pred)\n",
    "tn, fp, fn, tp = confusion_matrix(y_test, y_pred).ravel()\n",
    "\n",
    "with mlflow.start_run(run_name=\"Support Vector Classifier\"):\n",
    "\n",
    "    mlflow.sklearn.log_model(clf, \"model\")\n",
    "\n",
    "    print(\"\\nSupport Vector Classifier\")\n",
    "    print(pd.DataFrame(confusion_matrix(y_test, y_pred),\n",
    "             columns=['Predicted Spam', \"Predicted Ham\"], index=['Actual Spam', 'Actual Ham']))\n",
    "    print(f'\\nTrue Positives: {tp}')\n",
    "    print(f'False Positives: {fp}')\n",
    "    print(f'True Negatives: {tn}')\n",
    "    print(f'False Negatives: {fn}')\n",
    "\n",
    "    print(f'True Positive Rate: { (tp / (tp + fn))}')\n",
    "    print(f'Specificity: { (tn / (tn + fp))}')\n",
    "    print(f'False Positive Rate: { (fp / (fp + tn))}')\n",
    "    print(f\"Auc Score: {aucscore} \\n\\n\")\n",
    "    \n",
    "\n",
    "    tracking_url_type_store = urlparse(mlflow.get_tracking_uri()).scheme\n",
    "    mlflow.sklearn.log_model(\n",
    "        sk_model=clf,\n",
    "        artifact_path=\"sklearn-model\",\n",
    "        registered_model_name=\"support-vector-classifier\"\n",
    "    )\n",
    "    if tracking_url_type_store != \"file\":\n",
    "      mlflow.sklearn.log_model(clf, \"model\", registered_model_name=\"support-vector-classifie\")\n",
    "    else:\n",
    "      mlflow.sklearn.log_model(clf, \"model\")"
   ]
  },
  {
   "cell_type": "code",
   "execution_count": 13,
   "id": "f1f1250a",
   "metadata": {},
   "outputs": [
    {
     "data": {
      "text/plain": [
       "<ModelVersion: creation_timestamp=1677520302888, current_stage='None', description=None, last_updated_timestamp=1677520302888, name='support-vector-classifier', run_id='a844c8b0b173495fa819918b25b8e351', run_link=None, source='file:///C:/Users/hp/Downloads/mlruns/0/a844c8b0b173495fa819918b25b8e351/artifacts/sklearn-model', status='READY', status_message=None, tags={}, user_id=None, version=1>"
      ]
     },
     "execution_count": 13,
     "metadata": {},
     "output_type": "execute_result"
    }
   ],
   "source": [
    "mlflow.tracking.MlflowClient().get_model_version(\"support-vector-classifier\",\"1\")"
   ]
  },
  {
   "cell_type": "markdown",
   "id": "f058da04",
   "metadata": {},
   "source": [
    "# Logistic Regression Model with ngrams"
   ]
  },
  {
   "cell_type": "code",
   "execution_count": 14,
   "id": "e60d803a",
   "metadata": {},
   "outputs": [],
   "source": [
    "from sklearn.linear_model import LogisticRegression\n",
    "\n",
    "vectorizer = TfidfVectorizer(min_df=5, ngram_range=[1,3])\n",
    "\n",
    "X_train_transformed = vectorizer.fit_transform(X_train)\n",
    "X_train_transformed_with_length = add_feature(X_train_transformed, [X_train.str.len(),\n",
    "                                                                    X_train.apply(lambda x: len(''.join([a for a in x if a.isdigit()])))])\n",
    "\n",
    "X_test_transformed = vectorizer.transform(X_test)\n",
    "X_test_transformed_with_length = add_feature(X_test_transformed, [X_test.str.len(),\n",
    "                                                                  X_test.apply(lambda x: len(''.join([a for a in x if a.isdigit()])))])"
   ]
  },
  {
   "cell_type": "code",
   "execution_count": 15,
   "id": "7b66de19",
   "metadata": {
    "scrolled": true
   },
   "outputs": [
    {
     "name": "stderr",
     "output_type": "stream",
     "text": [
      "2023/02/28 01:49:32 INFO mlflow.utils.autologging_utils: Created MLflow autologging run with ID 'a9cd5624eb2a47e189dc5cf17af63bb6', which will track hyperparameters, performance metrics, model artifacts, and lineage information for the current sklearn workflow\n",
      "C:\\Users\\hp\\anaconda3\\lib\\site-packages\\sklearn\\linear_model\\_logistic.py:814: ConvergenceWarning: lbfgs failed to converge (status=1):\n",
      "STOP: TOTAL NO. of ITERATIONS REACHED LIMIT.\n",
      "\n",
      "Increase the number of iterations (max_iter) or scale the data as shown in:\n",
      "    https://scikit-learn.org/stable/modules/preprocessing.html\n",
      "Please also refer to the documentation for alternative solver options:\n",
      "    https://scikit-learn.org/stable/modules/linear_model.html#logistic-regression\n",
      "  n_iter_i = _check_optimize_result(\n"
     ]
    },
    {
     "name": "stdout",
     "output_type": "stream",
     "text": [
      "\n",
      "Logistic Regression\n",
      "             Predicted Spam  Predicted Ham\n",
      "Actual Spam             728              3\n",
      "Actual Ham                7             98\n",
      "\n",
      "True Positives: 98\n",
      "False Positives: 3\n",
      "True Negatives: 728\n",
      "False Negatives: 7\n",
      "True Positive Rate: 0.9333333333333333\n",
      "Specificity: 0.9958960328317373\n",
      "False Positive Rate: 0.004103967168262654\n",
      "Auc Score: 0.9646146830825354 \n",
      "\n",
      "\n"
     ]
    },
    {
     "name": "stderr",
     "output_type": "stream",
     "text": [
      "Registered model 'logistic-regression-model' already exists. Creating a new version of this model...\n",
      "2023/02/28 01:49:48 INFO mlflow.tracking._model_registry.client: Waiting up to 300 seconds for model version to finish creation.                     Model name: logistic-regression-model, version 4\n",
      "Created version '4' of model 'logistic-regression-model'.\n"
     ]
    }
   ],
   "source": [
    "mlflow.sklearn.autolog()\n",
    "\n",
    "clf = LogisticRegression(C=100)\n",
    "clf.fit(X_train_transformed_with_length, y_train)\n",
    "\n",
    "y_pred = clf.predict(X_test_transformed_with_length)\n",
    "aucscore = roc_auc_score(y_test, y_pred)\n",
    "tn, fp, fn, tp = confusion_matrix(y_test, y_pred).ravel()\n",
    "\n",
    "with mlflow.start_run(run_name=\"Logistic Regression\"):\n",
    "\n",
    "    mlflow.sklearn.log_model(clf, \"model\")\n",
    "\n",
    "    print(\"\\nLogistic Regression\")\n",
    "    print(pd.DataFrame(confusion_matrix(y_test, y_pred),\n",
    "             columns=['Predicted Spam', \"Predicted Ham\"], index=['Actual Spam', 'Actual Ham']))\n",
    "    print(f'\\nTrue Positives: {tp}')\n",
    "    print(f'False Positives: {fp}')\n",
    "    print(f'True Negatives: {tn}')\n",
    "    print(f'False Negatives: {fn}')\n",
    "\n",
    "    print(f'True Positive Rate: { (tp / (tp + fn))}')\n",
    "    print(f'Specificity: { (tn / (tn + fp))}')\n",
    "    print(f'False Positive Rate: { (fp / (fp + tn))}')\n",
    "    print(f\"Auc Score: {aucscore} \\n\\n\")\n",
    "    \n",
    "\n",
    "    tracking_url_type_store = urlparse(mlflow.get_tracking_uri()).scheme\n",
    "    mlflow.sklearn.log_model(\n",
    "        sk_model=clf,\n",
    "        artifact_path=\"sklearn-model\",\n",
    "        registered_model_name=\"logistic-regression-model\"\n",
    "    )\n",
    "    if tracking_url_type_store != \"file\":\n",
    "      mlflow.sklearn.log_model(clf, \"model\", registered_model_name=\"logistic-regression-model\")\n",
    "    else:\n",
    "      mlflow.sklearn.log_model(clf, \"model\")"
   ]
  },
  {
   "cell_type": "code",
   "execution_count": 16,
   "id": "f89d5628",
   "metadata": {},
   "outputs": [
    {
     "data": {
      "text/plain": [
       "<ModelVersion: creation_timestamp=1677520573207, current_stage='None', description=None, last_updated_timestamp=1677520573207, name='logistic-regression-model', run_id='4c1591cd393c4f5bae059c13c2cce610', run_link=None, source='file:///C:/Users/hp/Downloads/mlruns/0/4c1591cd393c4f5bae059c13c2cce610/artifacts/sklearn-model', status='READY', status_message=None, tags={}, user_id=None, version=1>"
      ]
     },
     "execution_count": 16,
     "metadata": {},
     "output_type": "execute_result"
    }
   ],
   "source": [
    "mlflow.tracking.MlflowClient().get_model_version(\"logistic-regression-model\",\"1\")"
   ]
  },
  {
   "cell_type": "markdown",
   "id": "ae9017d9",
   "metadata": {},
   "source": [
    "## The resultant best performing model was the SVC Model, although it should be noted that all 3 models performed reasonably well at detecting spam messages (all AUC > 0.9)."
   ]
  }
 ],
 "metadata": {
  "kernelspec": {
   "display_name": "Python 3 (ipykernel)",
   "language": "python",
   "name": "python3"
  },
  "language_info": {
   "codemirror_mode": {
    "name": "ipython",
    "version": 3
   },
   "file_extension": ".py",
   "mimetype": "text/x-python",
   "name": "python",
   "nbconvert_exporter": "python",
   "pygments_lexer": "ipython3",
   "version": "3.9.13"
  }
 },
 "nbformat": 4,
 "nbformat_minor": 5
}
