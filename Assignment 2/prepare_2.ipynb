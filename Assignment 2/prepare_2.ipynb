{
 "cells": [
  {
   "cell_type": "code",
   "execution_count": 50,
   "id": "b6a8a8d7",
   "metadata": {},
   "outputs": [],
   "source": [
    "import os\n",
    "import pandas as pd\n",
    "import numpy as np\n",
    "\n",
    "import sklearn\n",
    "from sklearn.model_selection import train_test_split\n",
    "from sklearn.preprocessing import LabelEncoder"
   ]
  },
  {
   "cell_type": "code",
   "execution_count": 2,
   "id": "4a377371",
   "metadata": {},
   "outputs": [
    {
     "name": "stdout",
     "output_type": "stream",
     "text": [
      "(5571, 2)\n"
     ]
    },
    {
     "data": {
      "text/html": [
       "<div>\n",
       "<style scoped>\n",
       "    .dataframe tbody tr th:only-of-type {\n",
       "        vertical-align: middle;\n",
       "    }\n",
       "\n",
       "    .dataframe tbody tr th {\n",
       "        vertical-align: top;\n",
       "    }\n",
       "\n",
       "    .dataframe thead th {\n",
       "        text-align: right;\n",
       "    }\n",
       "</style>\n",
       "<table border=\"1\" class=\"dataframe\">\n",
       "  <thead>\n",
       "    <tr style=\"text-align: right;\">\n",
       "      <th></th>\n",
       "      <th>spamorham</th>\n",
       "      <th>text</th>\n",
       "    </tr>\n",
       "  </thead>\n",
       "  <tbody>\n",
       "    <tr>\n",
       "      <th>0</th>\n",
       "      <td>ham</td>\n",
       "      <td>Ok lar... Joking wif u oni...</td>\n",
       "    </tr>\n",
       "    <tr>\n",
       "      <th>1</th>\n",
       "      <td>spam</td>\n",
       "      <td>Free entry in 2 a wkly comp to win FA Cup fina...</td>\n",
       "    </tr>\n",
       "    <tr>\n",
       "      <th>2</th>\n",
       "      <td>ham</td>\n",
       "      <td>U dun say so early hor... U c already then say...</td>\n",
       "    </tr>\n",
       "    <tr>\n",
       "      <th>3</th>\n",
       "      <td>ham</td>\n",
       "      <td>Nah I don't think he goes to usf, he lives aro...</td>\n",
       "    </tr>\n",
       "    <tr>\n",
       "      <th>4</th>\n",
       "      <td>spam</td>\n",
       "      <td>FreeMsg Hey there darling it's been 3 week's n...</td>\n",
       "    </tr>\n",
       "    <tr>\n",
       "      <th>5</th>\n",
       "      <td>ham</td>\n",
       "      <td>Even my brother is not like to speak with me. ...</td>\n",
       "    </tr>\n",
       "    <tr>\n",
       "      <th>6</th>\n",
       "      <td>ham</td>\n",
       "      <td>As per your request 'Melle Melle (Oru Minnamin...</td>\n",
       "    </tr>\n",
       "    <tr>\n",
       "      <th>7</th>\n",
       "      <td>spam</td>\n",
       "      <td>WINNER!! As a valued network customer you have...</td>\n",
       "    </tr>\n",
       "    <tr>\n",
       "      <th>8</th>\n",
       "      <td>spam</td>\n",
       "      <td>Had your mobile 11 months or more? U R entitle...</td>\n",
       "    </tr>\n",
       "    <tr>\n",
       "      <th>9</th>\n",
       "      <td>ham</td>\n",
       "      <td>I'm gonna be home soon and i don't want to tal...</td>\n",
       "    </tr>\n",
       "  </tbody>\n",
       "</table>\n",
       "</div>"
      ],
      "text/plain": [
       "  spamorham                                               text\n",
       "0       ham                      Ok lar... Joking wif u oni...\n",
       "1      spam  Free entry in 2 a wkly comp to win FA Cup fina...\n",
       "2       ham  U dun say so early hor... U c already then say...\n",
       "3       ham  Nah I don't think he goes to usf, he lives aro...\n",
       "4      spam  FreeMsg Hey there darling it's been 3 week's n...\n",
       "5       ham  Even my brother is not like to speak with me. ...\n",
       "6       ham  As per your request 'Melle Melle (Oru Minnamin...\n",
       "7      spam  WINNER!! As a valued network customer you have...\n",
       "8      spam  Had your mobile 11 months or more? U R entitle...\n",
       "9       ham  I'm gonna be home soon and i don't want to tal..."
      ]
     },
     "execution_count": 2,
     "metadata": {},
     "output_type": "execute_result"
    }
   ],
   "source": [
    "#reading the data set\n",
    "spam = pd.read_csv(\"raw_data.csv\", header=0, names=['spamorham', 'text'])\n",
    "print(spam.shape)\n",
    "spam.head(10)"
   ]
  },
  {
   "cell_type": "markdown",
   "id": "88c48f09",
   "metadata": {},
   "source": [
    "# Data Preprocessing"
   ]
  },
  {
   "cell_type": "code",
   "execution_count": 3,
   "id": "2c6b68d3",
   "metadata": {},
   "outputs": [
    {
     "data": {
      "text/html": [
       "<div>\n",
       "<style scoped>\n",
       "    .dataframe tbody tr th:only-of-type {\n",
       "        vertical-align: middle;\n",
       "    }\n",
       "\n",
       "    .dataframe tbody tr th {\n",
       "        vertical-align: top;\n",
       "    }\n",
       "\n",
       "    .dataframe thead th {\n",
       "        text-align: right;\n",
       "    }\n",
       "</style>\n",
       "<table border=\"1\" class=\"dataframe\">\n",
       "  <thead>\n",
       "    <tr style=\"text-align: right;\">\n",
       "      <th></th>\n",
       "      <th>text</th>\n",
       "      <th>target</th>\n",
       "    </tr>\n",
       "  </thead>\n",
       "  <tbody>\n",
       "    <tr>\n",
       "      <th>0</th>\n",
       "      <td>Ok lar... Joking wif u oni...</td>\n",
       "      <td>0</td>\n",
       "    </tr>\n",
       "    <tr>\n",
       "      <th>1</th>\n",
       "      <td>Free entry in 2 a wkly comp to win FA Cup fina...</td>\n",
       "      <td>1</td>\n",
       "    </tr>\n",
       "    <tr>\n",
       "      <th>2</th>\n",
       "      <td>U dun say so early hor... U c already then say...</td>\n",
       "      <td>0</td>\n",
       "    </tr>\n",
       "    <tr>\n",
       "      <th>3</th>\n",
       "      <td>Nah I don't think he goes to usf, he lives aro...</td>\n",
       "      <td>0</td>\n",
       "    </tr>\n",
       "    <tr>\n",
       "      <th>4</th>\n",
       "      <td>FreeMsg Hey there darling it's been 3 week's n...</td>\n",
       "      <td>1</td>\n",
       "    </tr>\n",
       "    <tr>\n",
       "      <th>5</th>\n",
       "      <td>Even my brother is not like to speak with me. ...</td>\n",
       "      <td>0</td>\n",
       "    </tr>\n",
       "    <tr>\n",
       "      <th>6</th>\n",
       "      <td>As per your request 'Melle Melle (Oru Minnamin...</td>\n",
       "      <td>0</td>\n",
       "    </tr>\n",
       "    <tr>\n",
       "      <th>7</th>\n",
       "      <td>WINNER!! As a valued network customer you have...</td>\n",
       "      <td>1</td>\n",
       "    </tr>\n",
       "    <tr>\n",
       "      <th>8</th>\n",
       "      <td>Had your mobile 11 months or more? U R entitle...</td>\n",
       "      <td>1</td>\n",
       "    </tr>\n",
       "    <tr>\n",
       "      <th>9</th>\n",
       "      <td>I'm gonna be home soon and i don't want to tal...</td>\n",
       "      <td>0</td>\n",
       "    </tr>\n",
       "  </tbody>\n",
       "</table>\n",
       "</div>"
      ],
      "text/plain": [
       "                                                text  target\n",
       "0                      Ok lar... Joking wif u oni...       0\n",
       "1  Free entry in 2 a wkly comp to win FA Cup fina...       1\n",
       "2  U dun say so early hor... U c already then say...       0\n",
       "3  Nah I don't think he goes to usf, he lives aro...       0\n",
       "4  FreeMsg Hey there darling it's been 3 week's n...       1\n",
       "5  Even my brother is not like to speak with me. ...       0\n",
       "6  As per your request 'Melle Melle (Oru Minnamin...       0\n",
       "7  WINNER!! As a valued network customer you have...       1\n",
       "8  Had your mobile 11 months or more? U R entitle...       1\n",
       "9  I'm gonna be home soon and i don't want to tal...       0"
      ]
     },
     "execution_count": 3,
     "metadata": {},
     "output_type": "execute_result"
    }
   ],
   "source": [
    "#creating a target col, with 0 for ham, 1 for spam\n",
    "df = spam.drop(columns=\"spamorham\")\n",
    "df[\"spam\"] = spam[\"spamorham\"].apply(lambda x:1 if 'spam' in str(x) else 0)\n",
    "df.columns=['text','target']\n",
    "df.head(10)"
   ]
  },
  {
   "cell_type": "markdown",
   "id": "e317c0de",
   "metadata": {},
   "source": [
    "# Exploratory Data Analysis "
   ]
  },
  {
   "cell_type": "code",
   "execution_count": 4,
   "id": "5ad7b25f",
   "metadata": {},
   "outputs": [
    {
     "name": "stdout",
     "output_type": "stream",
     "text": [
      "df_s.head(5)\n",
      "                                                 text  target  len\n",
      "1   Free entry in 2 a wkly comp to win FA Cup fina...       1  155\n",
      "4   FreeMsg Hey there darling it's been 3 week's n...       1  148\n",
      "7   WINNER!! As a valued network customer you have...       1  158\n",
      "8   Had your mobile 11 months or more? U R entitle...       1  154\n",
      "10  SIX chances to win CASH! From 100 to 20,000 po...       1  136\n",
      "\n",
      "\n",
      "df_ns.head(5)\n",
      "                                                text  target  len\n",
      "0                      Ok lar... Joking wif u oni...       0   29\n",
      "2  U dun say so early hor... U c already then say...       0   49\n",
      "3  Nah I don't think he goes to usf, he lives aro...       0   61\n",
      "5  Even my brother is not like to speak with me. ...       0   77\n",
      "6  As per your request 'Melle Melle (Oru Minnamin...       0  160\n"
     ]
    },
    {
     "name": "stderr",
     "output_type": "stream",
     "text": [
      "C:\\Users\\hp\\AppData\\Local\\Temp\\ipykernel_10608\\795719972.py:5: SettingWithCopyWarning: \n",
      "A value is trying to be set on a copy of a slice from a DataFrame.\n",
      "Try using .loc[row_indexer,col_indexer] = value instead\n",
      "\n",
      "See the caveats in the documentation: https://pandas.pydata.org/pandas-docs/stable/user_guide/indexing.html#returning-a-view-versus-a-copy\n",
      "  df_s['len'] = [len(x) for x in df_s[\"text\"]]\n",
      "C:\\Users\\hp\\AppData\\Local\\Temp\\ipykernel_10608\\795719972.py:11: SettingWithCopyWarning: \n",
      "A value is trying to be set on a copy of a slice from a DataFrame.\n",
      "Try using .loc[row_indexer,col_indexer] = value instead\n",
      "\n",
      "See the caveats in the documentation: https://pandas.pydata.org/pandas-docs/stable/user_guide/indexing.html#returning-a-view-versus-a-copy\n",
      "  df_ns['len'] = [len(x) for x in df_ns[\"text\"]]\n"
     ]
    }
   ],
   "source": [
    "#creating two seperate dfs: 1 for spam and 1 for non spam messages only\n",
    "df_s = df.loc[ df['target']==1]\n",
    "df_ns = df.loc[ df['target']==0]\n",
    "    \n",
    "df_s['len'] = [len(x) for x in df_s[\"text\"]]\n",
    "spamavg = df_s.len.mean()\n",
    "print('df_s.head(5)')\n",
    "print(df_s.head(5))\n",
    "\n",
    "print('\\n\\ndf_ns.head(5)')\n",
    "df_ns['len'] = [len(x) for x in df_ns[\"text\"]]\n",
    "nonspamavg = df_ns.len.mean()\n",
    "print(df_ns.head(5))"
   ]
  },
  {
   "cell_type": "code",
   "execution_count": 5,
   "id": "f813eadb",
   "metadata": {},
   "outputs": [
    {
     "name": "stdout",
     "output_type": "stream",
     "text": [
      "                                                text  target  length\n",
      "0                      Ok lar... Joking wif u oni...       0       0\n",
      "1  Free entry in 2 a wkly comp to win FA Cup fina...       1      25\n",
      "2  U dun say so early hor... U c already then say...       0       0\n",
      "3  Nah I don't think he goes to usf, he lives aro...       0       0\n",
      "4  FreeMsg Hey there darling it's been 3 week's n...       1       4\n",
      "5  Even my brother is not like to speak with me. ...       0       0\n",
      "6  As per your request 'Melle Melle (Oru Minnamin...       0       1\n",
      "7  WINNER!! As a valued network customer you have...       1      19\n",
      "8  Had your mobile 11 months or more? U R entitle...       1      13\n",
      "9  I'm gonna be home soon and i don't want to tal...       0       0\n"
     ]
    }
   ],
   "source": [
    "df['length'] = df['text'].apply(lambda x: len(''.join([a for a in x if a.isdigit()])))\n",
    "\n",
    "print(df.head(10))"
   ]
  },
  {
   "cell_type": "markdown",
   "id": "9b7e1e5f",
   "metadata": {},
   "source": [
    "# splitting the data into train/validation/test (random state 42)"
   ]
  },
  {
   "cell_type": "code",
   "execution_count": 36,
   "id": "6b087239",
   "metadata": {},
   "outputs": [],
   "source": [
    "X_train, X_validation_test, y_train, y_validation_test = train_test_split(df['text'], df['target'], test_size=0.30, random_state=42)\n",
    "X_test, X_validation, y_test, y_validation = train_test_split(X_validation_test, y_validation_test, test_size=0.5, random_state=42)\n",
    "\n",
    "train_data = pd.concat([y_train, X_train], axis=1)\n",
    "test_data = pd.concat([y_test,X_test],axis=1)\n",
    "validation_data =pd.concat([y_validation,X_validation],axis=1)"
   ]
  },
  {
   "cell_type": "markdown",
   "id": "bddd2ae1",
   "metadata": {},
   "source": [
    "# storing the splits at train.csv/validation.csv/test.csv"
   ]
  },
  {
   "cell_type": "code",
   "execution_count": 37,
   "id": "6f744ce4",
   "metadata": {},
   "outputs": [],
   "source": [
    "train_data.to_csv(\"data/train.csv\")\n",
    "test_data.to_csv(\"data/test.csv\")\n",
    "validation_data.to_csv(\"data/validation.csv\")"
   ]
  },
  {
   "cell_type": "code",
   "execution_count": 38,
   "id": "6d20f1f4",
   "metadata": {},
   "outputs": [
    {
     "name": "stdout",
     "output_type": "stream",
     "text": [
      "Train set - number of 0s: 3371 number of 1s: 528\n",
      "Validation set - number of 0s: 722 number of 1s: 114\n",
      "Test set - number of 0s: 731 number of 1s: 105\n"
     ]
    }
   ],
   "source": [
    "# checking with seed 42\n",
    "print(\"Train - num of 0s:\", sum(y_train == 0), \"num of 1s:\", sum(y_train == 1))\n",
    "print(\"Validation - num of 0s:\", sum(y_validation == 0), \"num of 1s:\", sum(y_validation== 1))\n",
    "print(\"Test - num of 0s:\", sum(y_test== 0), \"num of 1s:\", sum(y_test== 1))"
   ]
  },
  {
   "cell_type": "markdown",
   "id": "29bbf9a2",
   "metadata": {},
   "source": [
    "# data version control"
   ]
  },
  {
   "cell_type": "code",
   "execution_count": 41,
   "id": "e49e382b",
   "metadata": {},
   "outputs": [],
   "source": [
    "#!pip install dvc[all]\n",
    "#!git init\n",
    "#!dvc init"
   ]
  },
  {
   "cell_type": "code",
   "execution_count": 42,
   "id": "52ec67f2",
   "metadata": {
    "scrolled": false
   },
   "outputs": [],
   "source": [
    "#!dvc add Data\n",
    "#!git add Data.dvc\n",
    "#!git commit -m \"started Tracking Data\""
   ]
  },
  {
   "cell_type": "code",
   "execution_count": 43,
   "id": "3d4be1ed",
   "metadata": {},
   "outputs": [],
   "source": [
    "#!dvc remote add -d storage gdrive://1AGQIW8I4WJATybnk8JscnCnhkMN7bIyu\n",
    "#!dvc push"
   ]
  },
  {
   "cell_type": "code",
   "execution_count": 44,
   "id": "c392573e",
   "metadata": {},
   "outputs": [],
   "source": [
    "#!git remote add origin https://github.com/KrPriyank/AML-2023.git"
   ]
  },
  {
   "cell_type": "markdown",
   "id": "9ccfb3c5",
   "metadata": {},
   "source": [
    "# splitting the data into train/validation/test (random state 123)"
   ]
  },
  {
   "cell_type": "code",
   "execution_count": 25,
   "id": "7df2308b",
   "metadata": {},
   "outputs": [],
   "source": [
    "X_train, X_validation_test, y_train, y_validation_test = train_test_split(df['text'], df['target'], test_size=0.30, random_state=123)\n",
    "X_test, X_validation, y_test, y_validation = train_test_split(X_validation_test, y_validation_test, test_size=0.5, random_state=123)\n",
    "\n",
    "train_data = pd.concat([y_train, X_train], axis=1)\n",
    "test_data = pd.concat([y_test,X_test],axis=1)\n",
    "validation_data =pd.concat([y_validation,X_validation],axis=1)"
   ]
  },
  {
   "cell_type": "code",
   "execution_count": 26,
   "id": "fe76a5f4",
   "metadata": {},
   "outputs": [
    {
     "name": "stdout",
     "output_type": "stream",
     "text": [
      "Train set - number of 0s: 3381 number of 1s: 518\n",
      "Validation set - number of 0s: 719 number of 1s: 117\n",
      "Test set - number of 0s: 724 number of 1s: 112\n"
     ]
    }
   ],
   "source": [
    "# checking with seed 123\n",
    "print(\"Train - num of 0s:\", sum(y_train == 0), \"num of 1s:\", sum(y_train == 1))\n",
    "print(\"Validation - num of 0s:\", sum(y_validation == 0), \"num of 1s:\", sum(y_validation== 1))\n",
    "print(\"Test - num of 0s:\", sum(y_test== 0), \"num of 1s:\", sum(y_test== 1))"
   ]
  },
  {
   "cell_type": "code",
   "execution_count": 27,
   "id": "1d36705f",
   "metadata": {},
   "outputs": [],
   "source": [
    "train_data = pd.concat([y_train, X_train], axis=1)\n",
    "test_data = pd.concat([y_test,X_test],axis=1)\n",
    "validation_data =pd.concat([y_validation,X_validation],axis=1)\n",
    "\n",
    "train_data.to_csv(\"data/train.csv\")\n",
    "test_data.to_csv(\"data/test.csv\")\n",
    "validation_data.to_csv(\"data/validation.csv\")"
   ]
  },
  {
   "cell_type": "code",
   "execution_count": 45,
   "id": "dc37d93e",
   "metadata": {},
   "outputs": [],
   "source": [
    "#!git push --set-upstream origin master"
   ]
  },
  {
   "cell_type": "code",
   "execution_count": 46,
   "id": "90748f57",
   "metadata": {},
   "outputs": [],
   "source": [
    "#!dvc add data\n",
    "#!git add data.dvc\n",
    "#!git commit -m \"Seed Changes\"\n",
    "#!dvc push\n",
    "#!git push"
   ]
  },
  {
   "cell_type": "code",
   "execution_count": 47,
   "id": "cd9e15b2",
   "metadata": {},
   "outputs": [],
   "source": [
    "#!git log"
   ]
  },
  {
   "cell_type": "markdown",
   "id": "b89dd204",
   "metadata": {},
   "source": [
    "Getting the first version i.e, seed 42"
   ]
  },
  {
   "cell_type": "code",
   "execution_count": 48,
   "id": "ded6af0e",
   "metadata": {},
   "outputs": [],
   "source": [
    "#! git checkout 4ccc46b87095b7a1e3c3f1d2556e2c9f33b6d008 Data.dvc      \n",
    "#! dvc checkout  "
   ]
  },
  {
   "cell_type": "code",
   "execution_count": 39,
   "id": "f060470c",
   "metadata": {},
   "outputs": [],
   "source": [
    "train = pd.read_csv('data/train.csv')\n",
    "val = pd.read_csv('data/validation.csv')\n",
    "test = pd.read_csv('data/test.csv')"
   ]
  },
  {
   "cell_type": "code",
   "execution_count": 40,
   "id": "11256415",
   "metadata": {},
   "outputs": [
    {
     "name": "stdout",
     "output_type": "stream",
     "text": [
      "Train set - number of 0s: 3371 number of 1s: 528\n",
      "Validation set - number of 0s: 722 number of 1s: 114\n",
      "Test set - number of 0s: 731 number of 1s: 105\n"
     ]
    }
   ],
   "source": [
    "# checking before update\n",
    "print(\"Train - num of 0s:\", sum(train['target'] == 0), \"num of 1s:\", sum(train['target'] == 1))\n",
    "print(\"Validation - num of 0s:\", sum(val['target'] == 0), \"num of 1s:\", sum(val['target'] == 1))\n",
    "print(\"Test - num of 0s:\", sum(test['target'] == 0), \"num of 1s:\", sum(test['target'] == 1))"
   ]
  },
  {
   "cell_type": "markdown",
   "id": "e6577324",
   "metadata": {},
   "source": [
    "Getting the second version i.e, seed 123"
   ]
  },
  {
   "cell_type": "code",
   "execution_count": 49,
   "id": "f3b06010",
   "metadata": {},
   "outputs": [],
   "source": [
    "#! git checkout 6be76f998582c2d9002945db6ebc22db68062b95 Data.dvc      \n",
    "#! dvc checkout"
   ]
  },
  {
   "cell_type": "code",
   "execution_count": 33,
   "id": "a4821776",
   "metadata": {},
   "outputs": [],
   "source": [
    "train = pd.read_csv('data/train.csv')\n",
    "val = pd.read_csv('data/validation.csv')\n",
    "test = pd.read_csv('data/test.csv')"
   ]
  },
  {
   "cell_type": "code",
   "execution_count": 35,
   "id": "a9c18d32",
   "metadata": {},
   "outputs": [
    {
     "name": "stdout",
     "output_type": "stream",
     "text": [
      "Train set - number of 0s: 3381 number of 1s: 518\n",
      "Validation set - number of 0s: 719 number of 1s: 117\n",
      "Test set - number of 0s: 724 number of 1s: 112\n"
     ]
    }
   ],
   "source": [
    "# checking before update\n",
    "print(\"Train - num of 0s:\", sum(train['target'] == 0), \"num of 1s:\", sum(train['target'] == 1))\n",
    "print(\"Validation - num of 0s:\", sum(val['target'] == 0), \"num of 1s:\", sum(val['target'] == 1))\n",
    "print(\"Test - num of 0s:\", sum(test['target'] == 0), \"num of 1s:\", sum(test['target'] == 1))"
   ]
  }
 ],
 "metadata": {
  "kernelspec": {
   "display_name": "Python 3 (ipykernel)",
   "language": "python",
   "name": "python3"
  },
  "language_info": {
   "codemirror_mode": {
    "name": "ipython",
    "version": 3
   },
   "file_extension": ".py",
   "mimetype": "text/x-python",
   "name": "python",
   "nbconvert_exporter": "python",
   "pygments_lexer": "ipython3",
   "version": "3.9.13"
  }
 },
 "nbformat": 4,
 "nbformat_minor": 5
}
